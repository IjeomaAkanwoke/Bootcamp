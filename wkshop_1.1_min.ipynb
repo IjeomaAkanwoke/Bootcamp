{
 "cells": [
  {
   "cell_type": "markdown",
   "metadata": {
    "id": "UXL9hpom_zZ_"
   },
   "source": [
    "# Fundamentals: Python Intro\n",
    "\n",
    "## Warm Up\n",
    "\n",
    "In the cell below, import numpy and name it 'np' and create a list with the python data types that you learned about in the pre-lecture. Name the list \"types\".\n",
    "Ex.\n",
    "\n",
    "```\n",
    "import ... as ...\n",
    "types = [...]\n",
    "```"
   ]
  },
  {
   "cell_type": "code",
   "execution_count": 6,
   "metadata": {},
   "outputs": [
    {
     "name": "stdout",
     "output_type": "stream",
     "text": [
      "['integer' 'strings' 'boolean' 'float']\n"
     ]
    }
   ],
   "source": [
    "# import numpy and create the list here\n",
    "import numpy as np\n",
    "\n",
    "#define array\n",
    "types = np.array(['integer', 'strings', 'boolean', 'float'])\n",
    "\n",
    "#print values in array\n",
    "print (types)\n",
    "\n"
   ]
  },
  {
   "cell_type": "code",
   "execution_count": 10,
   "metadata": {
    "id": "r7yDtDnwARh_"
   },
   "outputs": [
    {
     "name": "stdout",
     "output_type": "stream",
     "text": [
      "type[0]\n",
      "['integer' 'strings']\n"
     ]
    }
   ],
   "source": [
    "# Warmup 1: Call the first element in types and slice the last 2 elements. Print both results.\n",
    "#calling the first element in types\n",
    "print (type[0])\n",
    "#slicing the last 2 elements in types\n",
    "print (types[:-2])\n"
   ]
  },
  {
   "cell_type": "code",
   "execution_count": 47,
   "metadata": {
    "id": "966SjVwbDEq0"
   },
   "outputs": [
    {
     "ename": "TypeError",
     "evalue": "unsupported operand type(s) for /: 'list' and 'int'",
     "output_type": "error",
     "traceback": [
      "\u001b[0;31m---------------------------------------------------------------------------\u001b[0m",
      "\u001b[0;31mTypeError\u001b[0m                                 Traceback (most recent call last)",
      "\u001b[0;32m/var/folders/70/6gysm1w92k13l4xchpxdghpm0000gn/T/ipykernel_1069/2043968393.py\u001b[0m in \u001b[0;36m<module>\u001b[0;34m\u001b[0m\n\u001b[1;32m      1\u001b[0m \u001b[0;31m# Warmup 2: Divide by 4, the second element in \"types\".\u001b[0m\u001b[0;34m\u001b[0m\u001b[0;34m\u001b[0m\u001b[0m\n\u001b[1;32m      2\u001b[0m \u001b[0mtypes\u001b[0m \u001b[0;34m=\u001b[0m \u001b[0;34m[\u001b[0m\u001b[0;34m'integer'\u001b[0m \u001b[0;34m'strings'\u001b[0m \u001b[0;34m'boolean'\u001b[0m \u001b[0;34m'float'\u001b[0m\u001b[0;34m]\u001b[0m\u001b[0;34m\u001b[0m\u001b[0;34m\u001b[0m\u001b[0m\n\u001b[0;32m----> 3\u001b[0;31m \u001b[0mtypes\u001b[0m\u001b[0;34m(\u001b[0m\u001b[0;34m[\u001b[0m\u001b[0;36m1\u001b[0m\u001b[0;34m]\u001b[0m\u001b[0;34m/\u001b[0m\u001b[0;36m4\u001b[0m\u001b[0;34m)\u001b[0m\u001b[0;34m\u001b[0m\u001b[0;34m\u001b[0m\u001b[0m\n\u001b[0m\u001b[1;32m      4\u001b[0m \u001b[0;34m\u001b[0m\u001b[0m\n\u001b[1;32m      5\u001b[0m \u001b[0;34m\u001b[0m\u001b[0m\n",
      "\u001b[0;31mTypeError\u001b[0m: unsupported operand type(s) for /: 'list' and 'int'"
     ]
    }
   ],
   "source": [
    "# Warmup 2: Divide by 4, the second element in \"types\". \n",
    "types = ['integer' 'strings' 'boolean' 'float']\n",
    "types([1]/4)\n",
    "\n",
    "\n"
   ]
  },
  {
   "cell_type": "markdown",
   "metadata": {
    "id": "rVDgBSgQ9QZz"
   },
   "source": [
    "In this text cell, explain why or why not the code was able to execute. (Your explanation does _not_ need to be very detailed.)"
   ]
  },
  {
   "cell_type": "code",
   "execution_count": 48,
   "metadata": {},
   "outputs": [
    {
     "data": {
      "text/plain": [
       "'the data type is a string and cannot be divided by an integer'"
      ]
     },
     "execution_count": 48,
     "metadata": {},
     "output_type": "execute_result"
    }
   ],
   "source": [
    "'the data type is a string and cannot be divided by an integer'"
   ]
  },
  {
   "cell_type": "markdown",
   "metadata": {
    "id": "TJ1OKy5fDVd1"
   },
   "source": [
    "## Exercise 1: Creating Data Containers\n",
    "\n",
    "Create a list, a set, a tuple and an array. \n",
    "\n",
    "- The list (in order) should have\n",
    "  - any 2 numbers as integers\n",
    "  - any 2 numbers as floating point numbers\n",
    "  - 2 of your favourite music artists as strings\n",
    "  - 6 elements total. Name this list **'First'** and print it. \n",
    "- The Set (in order) should have\n",
    "  - 1 even number less than 20\n",
    "  - 3 of the first letters of the alphabet as strings in seperate entries.\n",
    "  - 4 elements total. Name this set **'Second'** and print it.\n",
    "- The Tuple (in order) should have\n",
    "  - 6 negative numbers.\n",
    "  - 6 elements total. Name this Tuple **'Third'** and print it.\n",
    "- The array (in order) should have\n",
    "  - the same 6 elements as the tuple but these numbers should be positive.\n",
    "  - 6 elements total. Name this array **'Fourth'** and print it."
   ]
  },
  {
   "cell_type": "code",
   "execution_count": 15,
   "metadata": {
    "id": "rhW-sun-HwFI"
   },
   "outputs": [
    {
     "data": {
      "text/plain": [
       "[5, 4, 2.4, 4.4, 'chris', 'em']"
      ]
     },
     "execution_count": 15,
     "metadata": {},
     "output_type": "execute_result"
    }
   ],
   "source": [
    "# The list\n",
    "First = [5, 4, 2.4, 4.4, 'chris', 'em',]\n",
    "First \n"
   ]
  },
  {
   "cell_type": "code",
   "execution_count": 21,
   "metadata": {
    "id": "1yKK4z0rHwSA"
   },
   "outputs": [
    {
     "data": {
      "text/plain": [
       "['c', 4, 'a', 'b']"
      ]
     },
     "execution_count": 21,
     "metadata": {},
     "output_type": "execute_result"
    }
   ],
   "source": [
    "# The set\n",
    "Second = {4, 'a','b','c'}\n",
    "Second =list (set(Second))\n",
    "Second\n"
   ]
  },
  {
   "cell_type": "code",
   "execution_count": 22,
   "metadata": {},
   "outputs": [
    {
     "name": "stdout",
     "output_type": "stream",
     "text": [
      "('-1', '-3', '-2', '-5', '-8', '-6')\n"
     ]
    }
   ],
   "source": [
    "# The tuple\n",
    "third  = ('-1', '-3', '-2', '-5', '-8', '-6')\n",
    "third = '-1', '-3', '-2', '-5', '-8', '-6'\n",
    "print(third)"
   ]
  },
  {
   "cell_type": "code",
   "execution_count": 24,
   "metadata": {},
   "outputs": [
    {
     "name": "stdout",
     "output_type": "stream",
     "text": [
      "[[1], [3], [2], [5], [8], [6]]\n",
      "[[1]\n",
      " [3]\n",
      " [2]\n",
      " [5]\n",
      " [8]\n",
      " [6]]\n"
     ]
    }
   ],
   "source": [
    "# The array\n",
    "fourth = [[1], [3], [2], [5], [8], [6]]\n",
    "print(fourth)\n",
    "fourth = np.array(fourth)\n",
    "print(fourth)"
   ]
  },
  {
   "cell_type": "code",
   "execution_count": 26,
   "metadata": {
    "id": "PmeI6k0DLIPD"
   },
   "outputs": [
    {
     "name": "stdout",
     "output_type": "stream",
     "text": [
      "2.4\n"
     ]
    }
   ],
   "source": [
    "# Add the second element of 'First', and the last elements of 'Third' and 'Fourth'. Print the result.\n",
    "x = (2.4 + -6 + 6)\n",
    "print(x)\n"
   ]
  },
  {
   "cell_type": "code",
   "execution_count": null,
   "metadata": {},
   "outputs": [],
   "source": []
  },
  {
   "cell_type": "code",
   "execution_count": 23,
   "metadata": {
    "id": "Iw6KZ_oxLvJK"
   },
   "outputs": [
    {
     "name": "stdout",
     "output_type": "stream",
     "text": [
      "5\n"
     ]
    },
    {
     "data": {
      "text/plain": [
       "[5, 4, 2.4, 4.4, 'chris', 'em', 5]"
      ]
     },
     "execution_count": 23,
     "metadata": {},
     "output_type": "execute_result"
    }
   ],
   "source": [
    "# Slice the last 3 elements of 'Fourth' and append them to the list 'First'. Print the result.\n",
    "fourth = [1, 3, 2, 5, 8, 6]\n",
    "\n",
    "#slicing last 3 elements of fourth\n",
    "print(fourth[-3])\n",
    "\n",
    "#append the value 5 to first\n",
    "first = [5, 4, 2.4, 4.4, 'chris', 'em']\n",
    "first.append(5)\n",
    "first"
   ]
  },
  {
   "cell_type": "markdown",
   "metadata": {
    "id": "RX55PeiwNNz7"
   },
   "source": [
    "## Exercise 2: A Dictionary\n",
    "\n",
    "Create a dictionary with the following keys, 'Name', 'Year', 'Music' and 'Food'. The values associated with each key (in order) should be your name, the current year, you favourite genre of music and one of your favourite foods. Name the dictionary 'Me' and print it. "
   ]
  },
  {
   "cell_type": "code",
   "execution_count": 59,
   "metadata": {
    "id": "TLD8x4OaPhNI"
   },
   "outputs": [
    {
     "data": {
      "text/plain": [
       "dict_items([('Name', 'Ijeoma'), ('Year', 2022), ('Music', 'Hiphop'), ('Food', 'Yam')])"
      ]
     },
     "execution_count": 59,
     "metadata": {},
     "output_type": "execute_result"
    }
   ],
   "source": [
    "# your dictionary here\n",
    "Me = {'Name': 'Ijeoma', \n",
    "     'Year': 2022,\n",
    "     'Music':'Hiphop',\n",
    "     'Food': 'Yam',}\n",
    "\n",
    "type (Me)\n",
    "\n",
    "Me.items()\n",
    "\n",
    "\n"
   ]
  },
  {
   "cell_type": "code",
   "execution_count": 61,
   "metadata": {
    "id": "So_1ge7KPhkP"
   },
   "outputs": [
    {
     "data": {
      "text/plain": [
       "{'Name': 'Ijeoma',\n",
       " 'Year': 2022,\n",
       " 'Music': 'Hiphop',\n",
       " 'Food': 'Yam',\n",
       " 'food': 'Rice'}"
      ]
     },
     "execution_count": 61,
     "metadata": {},
     "output_type": "execute_result"
    }
   ],
   "source": [
    "# Replace the value associated with 'Food' to another one of your favourite foods. Print the updated dictionary.\n",
    "Me['food'] = 'Rice'\n",
    "Me"
   ]
  },
  {
   "cell_type": "markdown",
   "metadata": {
    "id": "PHorHCyjC3F9"
   },
   "source": [
    "## Exercise 3: An \"original\" List\n",
    "\n",
    "- Create a list with entries 1, 3, 2, 1, 5, 3, 5, 1, 4 and name it 'original'.\n",
    "- Create another list called 'unique' that only contains unique numbers from original.\n",
    "\n",
    "Example:\n",
    "\n",
    "```\n",
    "Input\n",
    "[1, 2, 3, 1]\n",
    "\n",
    "Output\n",
    "[1, 2, 3]\n",
    "```\n",
    "**Hint:** Think about the properties of a set from lecture.\n"
   ]
  },
  {
   "cell_type": "code",
   "execution_count": 62,
   "metadata": {
    "id": "cPWYXHe1C1hX"
   },
   "outputs": [
    {
     "name": "stdout",
     "output_type": "stream",
     "text": [
      "{1, 2, 3, 4, 5}\n"
     ]
    }
   ],
   "source": [
    "# List 1\n",
    "original = [1,3,2,1,5,3,5,1,4]\n",
    "original = set(original)\n",
    "print(original)"
   ]
  },
  {
   "cell_type": "code",
   "execution_count": 7,
   "metadata": {},
   "outputs": [
    {
     "name": "stdout",
     "output_type": "stream",
     "text": [
      "[1, 2, 3, 4, 5]\n"
     ]
    }
   ],
   "source": [
    "# List 2\n",
    "original = [1,3,2,1,5,3,5,1,4]\n",
    "unique = [1, 2, 3, 4, 5]\n",
    "unique = list(unique)\n",
    "print(list(unique))"
   ]
  },
  {
   "cell_type": "markdown",
   "metadata": {
    "id": "_cVTBnphH84j"
   },
   "source": [
    "## Exercise 4: Do the Math!\n",
    "\n",
    "Call the last element of the array \"Fourth\" that you created above. Raise this element to the second power and add it to the second element of the list \"First\"."
   ]
  },
  {
   "cell_type": "code",
   "execution_count": 50,
   "metadata": {
    "id": "Ik8NnTQ9VSeD"
   },
   "outputs": [
    {
     "name": "stdout",
     "output_type": "stream",
     "text": [
      "40\n"
     ]
    }
   ],
   "source": [
    "# do the math here...\n",
    "x = 6**2+4\n",
    "print(x)"
   ]
  },
  {
   "cell_type": "code",
   "execution_count": 8,
   "metadata": {
    "id": "4HOSQvJDVTEE"
   },
   "outputs": [
    {
     "name": "stdout",
     "output_type": "stream",
     "text": [
      "-19\n"
     ]
    }
   ],
   "source": [
    "# Add the last three elements of \"Third\". \n",
    "print(-5 + -8 + -6)"
   ]
  },
  {
   "cell_type": "markdown",
   "metadata": {
    "id": "lXS3i_GRVmk5"
   },
   "source": [
    "## Exercise 5: Conversion\n",
    "\n",
    "- Convert the tuple, \"Third\" to an array.\n",
    "- Double all the elements in \"Third\"\n",
    "- Add the elements in this array to the elements in \"Fourth\".\n",
    "\n",
    "To do this, use only 1 arithmetic statement. Store this result as \"Fifth\" and print it.\n",
    "\n",
    "**Hint** Answer should look like this. \n",
    "\n",
    "```\n",
    "Fifth = 2*___(____) + _____\n",
    "print (Fifth)\n",
    "```"
   ]
  },
  {
   "cell_type": "code",
   "execution_count": 32,
   "metadata": {
    "id": "5T35jbY3YL04"
   },
   "outputs": [
    {
     "name": "stdout",
     "output_type": "stream",
     "text": [
      "(array([ -1,  -5,  -3,  -9, -15, -11]), [3], [2], [5], [8], [6])\n"
     ]
    }
   ],
   "source": [
    "# conversion here\n",
    "third = (-1, -3, -2, -5, -8, -6)\n",
    "import numpy as np\n",
    "np.array(third)\n",
    "Fifth = 2 * np.array(third) + [1], [3], [2], [5], [8], [6]\n",
    "print (Fifth)"
   ]
  },
  {
   "cell_type": "markdown",
   "metadata": {
    "id": "afaH5uSsJFeD"
   },
   "source": [
    "## Exercise 6: Conditionals\n",
    "\n",
    "Convert \"Fifth\" to a tuple and use a print statement to see if Fifth is equal to \"Third\"."
   ]
  },
  {
   "cell_type": "code",
   "execution_count": 8,
   "metadata": {
    "id": "x_9YDynWaAUz"
   },
   "outputs": [
    {
     "name": "stdout",
     "output_type": "stream",
     "text": [
      "false\n"
     ]
    }
   ],
   "source": [
    "# conditionals here\n",
    "Fifth = [ -1,  -5,  -3,  -9, -15, -11], [3], [2], [5], [8], [6]\n",
    "for i in Fifth :\n",
    "    if Fifth == 'third' :\n",
    "        print(true)\n",
    "else:\n",
    "    print('false')\n",
    "        \n"
   ]
  },
  {
   "cell_type": "code",
   "execution_count": null,
   "metadata": {},
   "outputs": [],
   "source": []
  }
 ],
 "metadata": {
  "colab": {
   "collapsed_sections": [],
   "name": "Workshop_Data_Types.ipynb",
   "provenance": []
  },
  "kernelspec": {
   "display_name": "Python 3 (ipykernel)",
   "language": "python",
   "name": "python3"
  },
  "language_info": {
   "codemirror_mode": {
    "name": "ipython",
    "version": 3
   },
   "file_extension": ".py",
   "mimetype": "text/x-python",
   "name": "python",
   "nbconvert_exporter": "python",
   "pygments_lexer": "ipython3",
   "version": "3.9.7"
  },
  "metadata": {
   "interpreter": {
    "hash": "b8bdd4e700647ba2b08c59e5df8b7da1dcf50a218bcd4c1bcd9b3dc92e8788e5"
   }
  }
 },
 "nbformat": 4,
 "nbformat_minor": 1
}
